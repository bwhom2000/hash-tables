{
 "cells": [
  {
   "cell_type": "markdown",
   "id": "3077b6dd-501e-412e-a3d9-adc09f8a3ec6",
   "metadata": {
    "tags": []
   },
   "source": [
    "<h2> The search problem </h2>\n",
    "\n",
    "Let's create:\n",
    "<ul>\n",
    "    <li> A list of a million elements </li>\n",
    "    <li> A dictionary of a million key:pairs </li>\n",
    "</ul>\n",
    "And let's compare them!"
   ]
  },
  {
   "cell_type": "code",
   "execution_count": 33,
   "id": "52a93ebc-c3f5-4fe0-b5bf-7b43203b9883",
   "metadata": {
    "tags": []
   },
   "outputs": [],
   "source": [
    "import timeit\n",
    "import sys\n",
    "\n",
    "# Create a list with a large number of elements\n",
    "num_elements = 1000000\n",
    "my_list = list(range(num_elements))\n",
    "\n",
    "# Create a dictionary with the same elements as key-value pairs\n",
    "my_dict = {i: i for i in range(num_elements)}"
   ]
  },
  {
   "cell_type": "markdown",
   "id": "310b4fd9-472f-4523-815b-edfa2d66697f",
   "metadata": {},
   "source": [
    "<h3> Memory occupied by the list vs the dictionary </h3>"
   ]
  },
  {
   "cell_type": "code",
   "execution_count": 34,
   "id": "e4c1afee-7a9f-4e44-a8ef-adbb5e30dba1",
   "metadata": {
    "tags": []
   },
   "outputs": [
    {
     "name": "stdout",
     "output_type": "stream",
     "text": [
      "Memory occupied by the list: 8000056 bytes\n",
      "Memory occupied by the dictionary: 41943128 bytes\n"
     ]
    }
   ],
   "source": [
    "list_memory = sys.getsizeof(my_list)\n",
    "dict_memory = sys.getsizeof(my_dict)\n",
    "\n",
    "print(f\"Memory occupied by the list: {list_memory} bytes\")\n",
    "print(f\"Memory occupied by the dictionary: {dict_memory} bytes\")"
   ]
  },
  {
   "cell_type": "markdown",
   "id": "a939dbe7-46bb-4f90-96b9-ed5698be6f46",
   "metadata": {},
   "source": [
    "<h3> Searching with index/key </h3>"
   ]
  },
  {
   "cell_type": "code",
   "execution_count": 26,
   "id": "f6517ea1-c4f4-4f3e-a898-8a5f9b0f8f18",
   "metadata": {
    "tags": []
   },
   "outputs": [],
   "source": [
    "# Search for a value in the list\n",
    "def search_index_list():\n",
    "    target = my_list[num_elements-1]  # Value we're searching for\n",
    "    return target\n",
    "\n",
    "# Search for a value in the dictionary\n",
    "def search_key_dict():\n",
    "    target = my_dict[num_elements-1]  # Key we're searching for\n",
    "    return target"
   ]
  },
  {
   "cell_type": "code",
   "execution_count": 27,
   "id": "0b3b1511-52e2-4242-9544-5c29812e4f8c",
   "metadata": {
    "tags": []
   },
   "outputs": [
    {
     "name": "stdout",
     "output_type": "stream",
     "text": [
      "Time taken to search in the list: 0.000244 seconds\n",
      "Time taken to search in the dictionary: 0.000220 seconds\n"
     ]
    }
   ],
   "source": [
    "# Measure the time it takes to search in the list\n",
    "list_time = timeit.timeit(search_index_list, number=1000)\n",
    "print(f\"Time taken to search in the list: {list_time:.6f} seconds\")\n",
    "\n",
    "# Measure the time it takes to search in the dictionary\n",
    "dict_time = timeit.timeit(search_key_dict, number=1000)\n",
    "print(f\"Time taken to search in the dictionary: {dict_time:.6f} seconds\")"
   ]
  },
  {
   "cell_type": "markdown",
   "id": "88364aae-27f4-4da1-a627-8f42ba224e52",
   "metadata": {
    "tags": []
   },
   "source": [
    "<h3> Searching with no index/key </h3>"
   ]
  },
  {
   "cell_type": "code",
   "execution_count": 28,
   "id": "f732cfb5-6b30-4464-ac7a-a0ed2ff8235f",
   "metadata": {
    "tags": []
   },
   "outputs": [],
   "source": [
    "# Search for a value in the list\n",
    "def search_list():\n",
    "    target = num_elements - 1  # Value we're searching for\n",
    "    return target in my_list\n",
    "\n",
    "# Search for a value in the dictionary\n",
    "def search_dict():\n",
    "    target = num_elements - 1  # Key we're searching for\n",
    "    return target in my_dict\n"
   ]
  },
  {
   "cell_type": "code",
   "execution_count": 29,
   "id": "5770fae3-f469-4861-8dc7-1e871ef25a32",
   "metadata": {
    "tags": []
   },
   "outputs": [
    {
     "name": "stdout",
     "output_type": "stream",
     "text": [
      "Time taken to search in the list: 3.967933 seconds\n",
      "Time taken to search in the dictionary: 0.000052 seconds\n"
     ]
    }
   ],
   "source": [
    "# Measure the time it takes to search in the list\n",
    "list_time = timeit.timeit(search_list, number=1000)\n",
    "print(f\"Time taken to search in the list: {list_time:.6f} seconds\")\n",
    "\n",
    "# Measure the time it takes to search in the dictionary\n",
    "dict_time = timeit.timeit(search_dict, number=1000)\n",
    "print(f\"Time taken to search in the dictionary: {dict_time:.6f} seconds\")"
   ]
  },
  {
   "cell_type": "code",
   "execution_count": null,
   "id": "3d7e3c94-ee33-40b2-a851-1b3a180e23d7",
   "metadata": {},
   "outputs": [],
   "source": []
  }
 ],
 "metadata": {
  "kernelspec": {
   "display_name": "Python 3 (ipykernel)",
   "language": "python",
   "name": "python3"
  },
  "language_info": {
   "codemirror_mode": {
    "name": "ipython",
    "version": 3
   },
   "file_extension": ".py",
   "mimetype": "text/x-python",
   "name": "python",
   "nbconvert_exporter": "python",
   "pygments_lexer": "ipython3",
   "version": "3.11.5"
  }
 },
 "nbformat": 4,
 "nbformat_minor": 5
}
