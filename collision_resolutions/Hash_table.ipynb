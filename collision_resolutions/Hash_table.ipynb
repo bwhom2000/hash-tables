{
 "cells": [
  {
   "cell_type": "code",
   "execution_count": 1,
   "id": "9b091dac",
   "metadata": {},
   "outputs": [],
   "source": [
    "import time"
   ]
  },
  {
   "cell_type": "code",
   "execution_count": 2,
   "id": "afaa1413",
   "metadata": {},
   "outputs": [],
   "source": [
    "def lin_search(x:list, target):\n",
    "    for element in x: \n",
    "        if element == target:\n",
    "            return 1\n",
    "    return 0"
   ]
  },
  {
   "cell_type": "code",
   "execution_count": 3,
   "id": "58db5582",
   "metadata": {},
   "outputs": [],
   "source": [
    "targets = [100_000_000, 200_000_000, 300_000_000]\n",
    "sizes = [100_000_000, 200_000_000, 300_000_000]"
   ]
  },
  {
   "cell_type": "code",
   "execution_count": 4,
   "id": "1a7846cc",
   "metadata": {},
   "outputs": [
    {
     "name": "stdout",
     "output_type": "stream",
     "text": [
      "Found in 0.8232901096343994 seconds\n",
      "Found in 1.7060801982879639 seconds\n",
      "Found in 2.717190980911255 seconds\n"
     ]
    }
   ],
   "source": [
    "for target, size in zip(targets, sizes): \n",
    "    a_list = [ i for i in range (size+1)]\n",
    "    \n",
    "    start = time.time()\n",
    "    search_result = lin_search(a_list, target)\n",
    "    end = time.time()\n",
    "    total_time = end - start\n",
    "    \n",
    "    print(f\"Found in {total_time} seconds\")"
   ]
  },
  {
   "cell_type": "code",
   "execution_count": 5,
   "id": "e45b6f71",
   "metadata": {},
   "outputs": [],
   "source": [
    "class BadHashTable:\n",
    "    def __init__(self, table_size):\n",
    "        self.size = table_size \n",
    "        self.table = [[] for i in range (self.size)]\n",
    "        \n",
    "    def hash_func(self, key):\n",
    "        # Example of the worst hash function in the entire world \n",
    "        return 0 \n",
    "    \n",
    "    def insert(self, key, value):\n",
    "        hash_index = self.hash_func(key)\n",
    "        self.table[hash_index].append(value)\n",
    "    \n",
    "    def find(self, key, value): \n",
    "        hash_index = self.hash_func(key)\n",
    "        target_list = self.table[hash_index]\n",
    "        \n",
    "        for element in target_list:\n",
    "            if element == value:\n",
    "                return 1\n",
    "        return 0 \n",
    "        \n",
    "        \n",
    "        "
   ]
  },
  {
   "cell_type": "code",
   "execution_count": 6,
   "id": "58fe781f",
   "metadata": {},
   "outputs": [],
   "source": [
    "ht_1 = BadHashTable(9)"
   ]
  },
  {
   "cell_type": "code",
   "execution_count": 7,
   "id": "62885a17",
   "metadata": {},
   "outputs": [],
   "source": [
    "for i in range (200_000_000): \n",
    "    ht_1.insert(i,i)"
   ]
  },
  {
   "cell_type": "code",
   "execution_count": 8,
   "id": "b42ad676",
   "metadata": {},
   "outputs": [],
   "source": [
    "targets = [(100_000_000, 100_000_000), (200_000_000, 200_000_000)]"
   ]
  },
  {
   "cell_type": "code",
   "execution_count": 9,
   "id": "5cecbd7e",
   "metadata": {},
   "outputs": [
    {
     "name": "stdout",
     "output_type": "stream",
     "text": [
      "Found in 0.9259271621704102 seconds\n",
      "Found in 1.7574048042297363 seconds\n"
     ]
    }
   ],
   "source": [
    "for key, target in targets: \n",
    "    start = time.time()\n",
    "    search_result = ht_1.find(key, target)\n",
    "    end = time.time()\n",
    "    total_time = end - start\n",
    "    \n",
    "    print(f\"Found in {total_time} seconds\")"
   ]
  },
  {
   "cell_type": "code",
   "execution_count": null,
   "id": "7c8a99b4",
   "metadata": {},
   "outputs": [],
   "source": []
  }
 ],
 "metadata": {
  "kernelspec": {
   "display_name": "Python 3 (ipykernel)",
   "language": "python",
   "name": "python3"
  },
  "language_info": {
   "codemirror_mode": {
    "name": "ipython",
    "version": 3
   },
   "file_extension": ".py",
   "mimetype": "text/x-python",
   "name": "python",
   "nbconvert_exporter": "python",
   "pygments_lexer": "ipython3",
   "version": "3.11.4"
  }
 },
 "nbformat": 4,
 "nbformat_minor": 5
}
