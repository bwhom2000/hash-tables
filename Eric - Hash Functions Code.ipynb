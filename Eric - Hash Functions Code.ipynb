{
 "cells": [
  {
   "cell_type": "code",
   "execution_count": 72,
   "id": "fe9ab3fd",
   "metadata": {},
   "outputs": [],
   "source": [
    "import time\n",
    "import string\n",
    "import numpy as np\n",
    "import pandas as pd\n",
    "import xxhash"
   ]
  },
  {
   "cell_type": "code",
   "execution_count": 7,
   "id": "92c6be97",
   "metadata": {},
   "outputs": [],
   "source": [
    "df_test = pd.read_csv(\"Airline Dataset.csv\")"
   ]
  },
  {
   "cell_type": "code",
   "execution_count": 73,
   "id": "1936d055",
   "metadata": {},
   "outputs": [],
   "source": [
    "import hashlib\n",
    "import mmh3\n",
    "\n",
    "keys = df_test['First Name'].astype(str).tolist()\n",
    "values = df_test['Age'].astype(str).tolist()\n",
    "key_value_pairs = [(key, value) for key, value in zip(keys, values)]\n",
    "\n",
    "\n",
    "class HashTable:\n",
    "    def __init__(self, hash_function, num_buckets):\n",
    "        self.hash_function = hash_function\n",
    "        self.table = [None] * num_buckets\n",
    "        self.num_buckets = num_buckets\n",
    "    \n",
    "    def insert(self, key, value):\n",
    "        hash_value = self.hash_function(key, self.num_buckets)\n",
    "        index = hash_value % self.num_buckets\n",
    "        new_entry = (key, value)\n",
    "        while self.table[index] is not None and self.table[index][0] != key:\n",
    "            index = (index + 1) % self.num_buckets\n",
    "        self.table[index] = new_entry\n",
    "\n",
    "    def retrieve(self, key):\n",
    "        hash_value = self.hash_function(key, self.num_buckets)\n",
    "        index = hash_value % self.num_buckets\n",
    "        while self.table[index] is not None:\n",
    "            if self.table[index][0] == key:\n",
    "                return self.table[index][1]\n",
    "            index = (index + 1) % self.num_buckets\n",
    "        return None\n",
    "\n",
    "def murmurhash3(data, _=None): \n",
    "    return mmh3.hash(data)\n",
    "\n",
    "def xxhash_func(data, _=None):\n",
    "    return xxhash.xxh64(data).intdigest()\n",
    "\n",
    "\n",
    "# Time measurements\n",
    "def measure_time(hash_function, num_buckets):\n",
    "    hash_table = HashTable(hash_function, num_buckets)\n",
    "    \n",
    "    # Storing\n",
    "    start_time = time.time()\n",
    "    for key, value in key_value_pairs:\n",
    "        hash_table.insert(key, value)\n",
    "    store_time = time.time() - start_time\n",
    "    \n",
    "    # Retrieving\n",
    "    start_time = time.time()\n",
    "    for key, _ in key_value_pairs:\n",
    "        _ = hash_table.retrieve(key)\n",
    "    retrieve_time = time.time() - start_time\n",
    "\n",
    "    return store_time, retrieve_time"
   ]
  },
  {
   "cell_type": "code",
   "execution_count": 66,
   "id": "5ac1cc02",
   "metadata": {},
   "outputs": [],
   "source": [
    "prime_buckets = 100003  # A prime number for bucket count\n",
    "non_prime_buckets = 100002 # Non prime"
   ]
  },
  {
   "cell_type": "code",
   "execution_count": 87,
   "id": "83899476",
   "metadata": {},
   "outputs": [
    {
     "name": "stdout",
     "output_type": "stream",
     "text": [
      "\n",
      "Simple Sum Hash:\n",
      "Prime Buckets - Store: 16.262919902801514 , Retrieve: 16.70712900161743\n",
      "Non-prime Buckets - Store: 16.140865087509155 , Retrieve: 16.80592107772827\n"
     ]
    }
   ],
   "source": [
    "def simple_sum_hash(key, num_buckets):\n",
    "    return sum(ord(c) for c in key) % num_buckets\n",
    "\n",
    "prime_store_simple, prime_retrieve_simple = measure_time(simple_sum_hash, prime_buckets)\n",
    "non_prime_store_simple, non_prime_retrieve_simple = measure_time(simple_sum_hash, non_prime_buckets)\n",
    "\n",
    "print(\"\\nSimple Sum Hash:\")\n",
    "print(\"Prime Buckets - Store:\", prime_store_simple, \", Retrieve:\", prime_retrieve_simple)\n",
    "print(\"Non-prime Buckets - Store:\", non_prime_store_simple, \", Retrieve:\", non_prime_retrieve_simple)"
   ]
  },
  {
   "cell_type": "code",
   "execution_count": 85,
   "id": "743dcd1b",
   "metadata": {},
   "outputs": [
    {
     "name": "stdout",
     "output_type": "stream",
     "text": [
      "\n",
      "xxMurMurHash3:\n",
      "MurmurHash3 (Prime # Buckets) - Store: 0.05293607711791992, Retrieve: 0.025412797927856445\n",
      "MurmurHash3 (Non-Prime # Buckets) - Store: 0.020811080932617188, Retrieve: 0.017499923706054688\n"
     ]
    }
   ],
   "source": [
    "murmur_store_time, murmur_retrieve_time = measure_time(murmurhash3, prime_buckets)\n",
    "murmur_store_time1, murmur_retrieve_time1 = measure_time(murmurhash3, non_prime_buckets)\n",
    "\n",
    "print(\"\\nxxMurMurHash3:\")\n",
    "print(f\"MurmurHash3 (Prime # Buckets) - Store: {murmur_store_time}, Retrieve: {murmur_retrieve_time}\")\n",
    "print(f\"MurmurHash3 (Non-Prime # Buckets) - Store: {murmur_store_time1}, Retrieve: {murmur_retrieve_time1}\")"
   ]
  },
  {
   "cell_type": "code",
   "execution_count": 86,
   "id": "7ce38aca",
   "metadata": {},
   "outputs": [
    {
     "name": "stdout",
     "output_type": "stream",
     "text": [
      "\n",
      "xxHash:\n",
      "Prime Buckets - Store: 0.061853885650634766, Retrieve: 0.02809309959411621\n",
      "Non-prime Buckets - Store: 0.026203155517578125, Retrieve: 0.02412891387939453\n"
     ]
    }
   ],
   "source": [
    "prime_store_xx, prime_retrieve_xx = measure_time(xxhash_func, prime_buckets)\n",
    "non_prime_store_xx, non_prime_retrieve_xx = measure_time(xxhash_func, non_prime_buckets)\n",
    "print(\"\\nxxHash:\")\n",
    "print(f\"Prime Buckets - Store: {prime_store_xx}, Retrieve: {prime_retrieve_xx}\")\n",
    "print(f\"Non-prime Buckets - Store: {non_prime_store_xx}, Retrieve: {non_prime_retrieve_xx}\")"
   ]
  },
  {
   "cell_type": "code",
   "execution_count": null,
   "id": "fb3b909b",
   "metadata": {},
   "outputs": [],
   "source": []
  }
 ],
 "metadata": {
  "kernelspec": {
   "display_name": "Python 3 (ipykernel)",
   "language": "python",
   "name": "python3"
  },
  "language_info": {
   "codemirror_mode": {
    "name": "ipython",
    "version": 3
   },
   "file_extension": ".py",
   "mimetype": "text/x-python",
   "name": "python",
   "nbconvert_exporter": "python",
   "pygments_lexer": "ipython3",
   "version": "3.11.0"
  }
 },
 "nbformat": 4,
 "nbformat_minor": 5
}
